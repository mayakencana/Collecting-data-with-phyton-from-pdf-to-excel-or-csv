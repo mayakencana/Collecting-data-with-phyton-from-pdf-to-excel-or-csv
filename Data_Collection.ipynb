{
  "nbformat": 4,
  "nbformat_minor": 0,
  "metadata": {
    "colab": {
      "name": "Data Collection.ipynb",
      "provenance": [],
      "collapsed_sections": [],
      "toc_visible": true
    },
    "kernelspec": {
      "display_name": "Python 3",
      "name": "python3"
    },
    "language_info": {
      "name": "python"
    }
  },
  "cells": [
    {
      "cell_type": "markdown",
      "metadata": {
        "id": "fS9coI2GsWFX"
      },
      "source": [
        "# Data Collection\n",
        "Permasalahan yang sering ditemui saat ingin mencari data adalah data tersebut berbentuk pdf dimana tidak jarang memaksa kita untuk input data secara manual. Hal ini tentu membutuhkan banyak waktu dan tenaga. Oleh karena itu akan di bagikan cara menconvert data dari pdf ke dalam format excel dan documents."
      ]
    },
    {
      "cell_type": "markdown",
      "metadata": {
        "id": "nC9hJiXHtzOk"
      },
      "source": [
        "## Connect Gdrive kedalam Colab\n",
        "Pada tutorial telah dijelaskan bagaimana step by step mengkoneksikan gdrive kedalam collab.\n",
        "Apabila mengalami kesulitan pada tahap ini, mohon dibaca \"PANDUAN MENGGUNAKAN GOOGLE COLABORATORY\" secara seksama"
      ]
    },
    {
      "cell_type": "code",
      "metadata": {
        "colab": {
          "base_uri": "https://localhost:8080/"
        },
        "id": "qtrJx4ZAiss2",
        "outputId": "37be4510-8af9-4b1a-e286-f8b6bebd602a"
      },
      "source": [
        "# Mengakses google drive ke dalam google colaboratory\n",
        "from google.colab import drive\n",
        "drive.mount('/content/gdrive')"
      ],
      "execution_count": null,
      "outputs": [
        {
          "output_type": "stream",
          "text": [
            "Drive already mounted at /content/gdrive; to attempt to forcibly remount, call drive.mount(\"/content/gdrive\", force_remount=True).\n"
          ],
          "name": "stdout"
        }
      ]
    },
    {
      "cell_type": "markdown",
      "metadata": {
        "id": "vWa7SlyUuUIl"
      },
      "source": [
        "## Import Packages/Library\n",
        "Dalam turorial ini, anda akan diajarkan untuk convert data dengan library yang terdapat dalam python. \n",
        "- Tabula Documentation : https://tabula-py.readthedocs.io/en/latest/\n",
        "- pdf2docx converter Documentation : https://dothinking.github.io/pdf2docx/quickstart.convert.html\n",
        "\n",
        "Akan tetapi ke-2 library yang akan digunakan bukan merupakan bawaan notebook, oleh karena itu diperlukan install library secara independent. Berikut caranya"
      ]
    },
    {
      "cell_type": "code",
      "metadata": {
        "colab": {
          "base_uri": "https://localhost:8080/"
        },
        "id": "TAkRY3S-jWE6",
        "outputId": "e2606902-541d-448e-d1ad-20b7cab8c4d1"
      },
      "source": [
        "# Install library tabula untuk convert pdf to excel (read tables in pdf into DataFrame)\n",
        "!pip install tabula-py"
      ],
      "execution_count": null,
      "outputs": [
        {
          "output_type": "stream",
          "text": [
            "Requirement already satisfied: tabula-py in /usr/local/lib/python3.7/dist-packages (2.2.0)\n",
            "Requirement already satisfied: pandas>=0.25.3 in /usr/local/lib/python3.7/dist-packages (from tabula-py) (1.1.5)\n",
            "Requirement already satisfied: distro in /usr/local/lib/python3.7/dist-packages (from tabula-py) (1.5.0)\n",
            "Requirement already satisfied: numpy in /usr/local/lib/python3.7/dist-packages (from tabula-py) (1.19.5)\n",
            "Requirement already satisfied: python-dateutil>=2.7.3 in /usr/local/lib/python3.7/dist-packages (from pandas>=0.25.3->tabula-py) (2.8.1)\n",
            "Requirement already satisfied: pytz>=2017.2 in /usr/local/lib/python3.7/dist-packages (from pandas>=0.25.3->tabula-py) (2018.9)\n",
            "Requirement already satisfied: six>=1.5 in /usr/local/lib/python3.7/dist-packages (from python-dateutil>=2.7.3->pandas>=0.25.3->tabula-py) (1.15.0)\n"
          ],
          "name": "stdout"
        }
      ]
    },
    {
      "cell_type": "code",
      "metadata": {
        "colab": {
          "base_uri": "https://localhost:8080/"
        },
        "id": "J7F2RDttnF1Y",
        "outputId": "95c66f93-168b-4404-d839-fb0928c00076"
      },
      "source": [
        "# Install library pdf2docx untuk convert pdf to document\n",
        "!pip install pdf2docx"
      ],
      "execution_count": null,
      "outputs": [
        {
          "output_type": "stream",
          "text": [
            "Requirement already satisfied: pdf2docx in /usr/local/lib/python3.7/dist-packages (0.5.1)\n",
            "Requirement already satisfied: PyMuPDF>=1.18.5 in /usr/local/lib/python3.7/dist-packages (from pdf2docx) (1.18.13)\n",
            "Requirement already satisfied: fire>=0.3.0 in /usr/local/lib/python3.7/dist-packages (from pdf2docx) (0.4.0)\n",
            "Requirement already satisfied: python-docx>=0.8.10 in /usr/local/lib/python3.7/dist-packages (from pdf2docx) (0.8.11)\n",
            "Requirement already satisfied: six in /usr/local/lib/python3.7/dist-packages (from fire>=0.3.0->pdf2docx) (1.15.0)\n",
            "Requirement already satisfied: termcolor in /usr/local/lib/python3.7/dist-packages (from fire>=0.3.0->pdf2docx) (1.1.0)\n",
            "Requirement already satisfied: lxml>=2.3.2 in /usr/local/lib/python3.7/dist-packages (from python-docx>=0.8.10->pdf2docx) (4.2.6)\n"
          ],
          "name": "stdout"
        }
      ]
    },
    {
      "cell_type": "code",
      "metadata": {
        "id": "pc7mdolkjzJB"
      },
      "source": [
        "# Import Packages/Library\n",
        "import os\n",
        "import tabula\n",
        "from pdf2docx import Converter"
      ],
      "execution_count": null,
      "outputs": []
    },
    {
      "cell_type": "code",
      "metadata": {
        "id": "2infZI_1kLbq"
      },
      "source": [
        "# Inisiasi directory tempat data akan dibaca dan disimpan\n",
        "path = \"gdrive/MyDrive/Mini Course/DATA/\" #silahkan masukkan path sesuai dengan letak data di drive masing-masing"
      ],
      "execution_count": null,
      "outputs": []
    },
    {
      "cell_type": "code",
      "metadata": {
        "colab": {
          "base_uri": "https://localhost:8080/"
        },
        "id": "wMNa27KMkkST",
        "outputId": "99118da7-1566-4f00-a8bc-a3a540adaf4a"
      },
      "source": [
        "# Cek directory untuk memastikan data tersimpan di dalamnya\n",
        "os.listdir(path)"
      ],
      "execution_count": null,
      "outputs": [
        {
          "output_type": "execute_result",
          "data": {
            "text/plain": [
              "['Provinsi Jawa Timur Dalam Angka 2020-pages-85.pdf']"
            ]
          },
          "metadata": {
            "tags": []
          },
          "execution_count": 23
        }
      ]
    },
    {
      "cell_type": "markdown",
      "metadata": {
        "id": "Li2Oat3ZvP9P"
      },
      "source": [
        "## Convert Pdf to .xlsx and .csv format\n",
        "Dalam mengconvert file pdf kedalam excel kita akan menggunakan module tabula. Ada beberapa argument yang ditambahkan untuk membantu mengatur spesifikasi output yang diharapkan."
      ]
    },
    {
      "cell_type": "code",
      "metadata": {
        "colab": {
          "base_uri": "https://localhost:8080/"
        },
        "id": "N6vf9mppXxqF",
        "outputId": "352ab753-d9bd-4aa0-86a5-1f1cbae9e4d5"
      },
      "source": [
        "# Read PDf file\n",
        "df = tabula.read_pdf(path + 'Provinsi Jawa Timur Dalam Angka 2020-pages-85.pdf', pages = 1, lattice = True, multiple_tables=True)[0]"
      ],
      "execution_count": null,
      "outputs": [
        {
          "output_type": "stream",
          "text": [
            "Got stderr: May 24, 2021 1:34:36 PM org.apache.pdfbox.pdmodel.font.PDType1Font <init>\n",
            "WARNING: Using fallback font LiberationSans for base font Symbol\n",
            "May 24, 2021 1:34:36 PM org.apache.pdfbox.pdmodel.font.PDType1Font <init>\n",
            "WARNING: Using fallback font LiberationSans for base font ZapfDingbats\n",
            "\n"
          ],
          "name": "stderr"
        }
      ]
    },
    {
      "cell_type": "code",
      "metadata": {
        "colab": {
          "base_uri": "https://localhost:8080/",
          "height": 191
        },
        "id": "btC9_rpiX4U0",
        "outputId": "1d897619-bdf8-4c14-c67b-434f2fb27473"
      },
      "source": [
        "# Menampilkan 5 data teratas dari file\n",
        "df.head()"
      ],
      "execution_count": null,
      "outputs": [
        {
          "output_type": "execute_result",
          "data": {
            "text/html": [
              "<div>\n",
              "<style scoped>\n",
              "    .dataframe tbody tr th:only-of-type {\n",
              "        vertical-align: middle;\n",
              "    }\n",
              "\n",
              "    .dataframe tbody tr th {\n",
              "        vertical-align: top;\n",
              "    }\n",
              "\n",
              "    .dataframe thead th {\n",
              "        text-align: right;\n",
              "    }\n",
              "</style>\n",
              "<table border=\"1\" class=\"dataframe\">\n",
              "  <thead>\n",
              "    <tr style=\"text-align: right;\">\n",
              "      <th></th>\n",
              "      <th>Kabupaten/Kota\\rRegency/Municipality</th>\n",
              "      <th>2018</th>\n",
              "      <th>Unnamed: 0</th>\n",
              "    </tr>\n",
              "  </thead>\n",
              "  <tbody>\n",
              "    <tr>\n",
              "      <th>0</th>\n",
              "      <td>NaN</td>\n",
              "      <td>Pendapatan\\rRevenues</td>\n",
              "      <td>Belanja\\rExpenditures</td>\n",
              "    </tr>\n",
              "    <tr>\n",
              "      <th>1</th>\n",
              "      <td>(1)</td>\n",
              "      <td>(2)</td>\n",
              "      <td>(3)</td>\n",
              "    </tr>\n",
              "    <tr>\n",
              "      <th>2</th>\n",
              "      <td>Kabupaten/Regency</td>\n",
              "      <td>NaN</td>\n",
              "      <td>NaN</td>\n",
              "    </tr>\n",
              "    <tr>\n",
              "      <th>3</th>\n",
              "      <td>Pacitan</td>\n",
              "      <td>1 615 114 387 846,00</td>\n",
              "      <td>1 665 549 144 945,82</td>\n",
              "    </tr>\n",
              "    <tr>\n",
              "      <th>4</th>\n",
              "      <td>Ponorogo</td>\n",
              "      <td>2 280 253 624 958,67</td>\n",
              "      <td>2 322 805 767 564,09</td>\n",
              "    </tr>\n",
              "  </tbody>\n",
              "</table>\n",
              "</div>"
            ],
            "text/plain": [
              "  Kabupaten/Kota\\rRegency/Municipality  ...             Unnamed: 0\n",
              "0                                  NaN  ...  Belanja\\rExpenditures\n",
              "1                                  (1)  ...                    (3)\n",
              "2                    Kabupaten/Regency  ...                    NaN\n",
              "3                              Pacitan  ...   1 665 549 144 945,82\n",
              "4                             Ponorogo  ...   2 322 805 767 564,09\n",
              "\n",
              "[5 rows x 3 columns]"
            ]
          },
          "metadata": {
            "tags": []
          },
          "execution_count": 92
        }
      ]
    },
    {
      "cell_type": "markdown",
      "metadata": {
        "id": "PK0-LrnhwzvS"
      },
      "source": [
        "Perhatikan table diatas, dalam penamaan nama kolom, formatnya masih kurang rapi, selain itu ada kolom-kolom yang masuk ke dalam baris."
      ]
    },
    {
      "cell_type": "code",
      "metadata": {
        "id": "0RwxpReiaMD5"
      },
      "source": [
        "# Cleaning data\n",
        "df_clean = df.iloc[3:].reset_index(drop=True) #mengambil data dari baris index ke-3, dan mereset index agar mulai dari 0\n",
        "\n",
        "df_clean.columns = [df.columns[0],df['2018'][0],df['Unnamed: 0'][0]] #rename nama kolom"
      ],
      "execution_count": null,
      "outputs": []
    },
    {
      "cell_type": "code",
      "metadata": {
        "colab": {
          "base_uri": "https://localhost:8080/",
          "height": 191
        },
        "id": "ZRYSoqDcbbpg",
        "outputId": "5e995b4e-17c3-4b32-ab19-b7444dc9f328"
      },
      "source": [
        "# Menampilkan 5 data teratas dari file\n",
        "df_clean.head()"
      ],
      "execution_count": null,
      "outputs": [
        {
          "output_type": "execute_result",
          "data": {
            "text/html": [
              "<div>\n",
              "<style scoped>\n",
              "    .dataframe tbody tr th:only-of-type {\n",
              "        vertical-align: middle;\n",
              "    }\n",
              "\n",
              "    .dataframe tbody tr th {\n",
              "        vertical-align: top;\n",
              "    }\n",
              "\n",
              "    .dataframe thead th {\n",
              "        text-align: right;\n",
              "    }\n",
              "</style>\n",
              "<table border=\"1\" class=\"dataframe\">\n",
              "  <thead>\n",
              "    <tr style=\"text-align: right;\">\n",
              "      <th></th>\n",
              "      <th>Kabupaten/Kota\\rRegency/Municipality</th>\n",
              "      <th>Pendapatan\\rRevenues</th>\n",
              "      <th>Belanja\\rExpenditures</th>\n",
              "    </tr>\n",
              "  </thead>\n",
              "  <tbody>\n",
              "    <tr>\n",
              "      <th>0</th>\n",
              "      <td>Pacitan</td>\n",
              "      <td>1 615 114 387 846,00</td>\n",
              "      <td>1 665 549 144 945,82</td>\n",
              "    </tr>\n",
              "    <tr>\n",
              "      <th>1</th>\n",
              "      <td>Ponorogo</td>\n",
              "      <td>2 280 253 624 958,67</td>\n",
              "      <td>2 322 805 767 564,09</td>\n",
              "    </tr>\n",
              "    <tr>\n",
              "      <th>2</th>\n",
              "      <td>Trenggalek</td>\n",
              "      <td>1 783 656 956 465,47</td>\n",
              "      <td>1 946 046 774 834,78</td>\n",
              "    </tr>\n",
              "    <tr>\n",
              "      <th>3</th>\n",
              "      <td>Tulungagung</td>\n",
              "      <td>2 584 915 681 735,77</td>\n",
              "      <td>2 800 598 386 012,13</td>\n",
              "    </tr>\n",
              "    <tr>\n",
              "      <th>4</th>\n",
              "      <td>Blitar</td>\n",
              "      <td>2 361 756 636 564,51</td>\n",
              "      <td>2 456 663 058 142,18</td>\n",
              "    </tr>\n",
              "  </tbody>\n",
              "</table>\n",
              "</div>"
            ],
            "text/plain": [
              "  Kabupaten/Kota\\rRegency/Municipality  ... Belanja\\rExpenditures\n",
              "0                              Pacitan  ...  1 665 549 144 945,82\n",
              "1                             Ponorogo  ...  2 322 805 767 564,09\n",
              "2                           Trenggalek  ...  1 946 046 774 834,78\n",
              "3                          Tulungagung  ...  2 800 598 386 012,13\n",
              "4                               Blitar  ...  2 456 663 058 142,18\n",
              "\n",
              "[5 rows x 3 columns]"
            ]
          },
          "metadata": {
            "tags": []
          },
          "execution_count": 126
        }
      ]
    },
    {
      "cell_type": "code",
      "metadata": {
        "colab": {
          "base_uri": "https://localhost:8080/",
          "height": 1000
        },
        "id": "_4BV0e9Ok63S",
        "outputId": "ac3574de-a3ec-4320-8214-4435e66329ca"
      },
      "source": [
        "# Cleaning data columns\n",
        "df_clean.columns = df_clean.columns.str.replace('\\r', '/') # Mengganti \"\\r\" menjadi spasi\n",
        "df_clean"
      ],
      "execution_count": null,
      "outputs": [
        {
          "output_type": "execute_result",
          "data": {
            "text/html": [
              "<div>\n",
              "<style scoped>\n",
              "    .dataframe tbody tr th:only-of-type {\n",
              "        vertical-align: middle;\n",
              "    }\n",
              "\n",
              "    .dataframe tbody tr th {\n",
              "        vertical-align: top;\n",
              "    }\n",
              "\n",
              "    .dataframe thead th {\n",
              "        text-align: right;\n",
              "    }\n",
              "</style>\n",
              "<table border=\"1\" class=\"dataframe\">\n",
              "  <thead>\n",
              "    <tr style=\"text-align: right;\">\n",
              "      <th></th>\n",
              "      <th>Kabupaten/Kota/Regency/Municipality</th>\n",
              "      <th>Pendapatan/Revenues</th>\n",
              "      <th>Belanja/Expenditures</th>\n",
              "    </tr>\n",
              "  </thead>\n",
              "  <tbody>\n",
              "    <tr>\n",
              "      <th>0</th>\n",
              "      <td>Pacitan</td>\n",
              "      <td>1 615 114 387 846,00</td>\n",
              "      <td>1 665 549 144 945,82</td>\n",
              "    </tr>\n",
              "    <tr>\n",
              "      <th>1</th>\n",
              "      <td>Ponorogo</td>\n",
              "      <td>2 280 253 624 958,67</td>\n",
              "      <td>2 322 805 767 564,09</td>\n",
              "    </tr>\n",
              "    <tr>\n",
              "      <th>2</th>\n",
              "      <td>Trenggalek</td>\n",
              "      <td>1 783 656 956 465,47</td>\n",
              "      <td>1 946 046 774 834,78</td>\n",
              "    </tr>\n",
              "    <tr>\n",
              "      <th>3</th>\n",
              "      <td>Tulungagung</td>\n",
              "      <td>2 584 915 681 735,77</td>\n",
              "      <td>2 800 598 386 012,13</td>\n",
              "    </tr>\n",
              "    <tr>\n",
              "      <th>4</th>\n",
              "      <td>Blitar</td>\n",
              "      <td>2 361 756 636 564,51</td>\n",
              "      <td>2 456 663 058 142,18</td>\n",
              "    </tr>\n",
              "    <tr>\n",
              "      <th>5</th>\n",
              "      <td>Kediri</td>\n",
              "      <td>2 722 803 932 568,56</td>\n",
              "      <td>3 149 740 395 312,47</td>\n",
              "    </tr>\n",
              "    <tr>\n",
              "      <th>6</th>\n",
              "      <td>Malang</td>\n",
              "      <td>3 800 114 750 714,82</td>\n",
              "      <td>4 050 668 474 662,23</td>\n",
              "    </tr>\n",
              "    <tr>\n",
              "      <th>7</th>\n",
              "      <td>Lumajang</td>\n",
              "      <td>2 094 116 512 299,30</td>\n",
              "      <td>2 256 619 621 618,47</td>\n",
              "    </tr>\n",
              "    <tr>\n",
              "      <th>8</th>\n",
              "      <td>Jember</td>\n",
              "      <td>3 601 294 429 685,50</td>\n",
              "      <td>4 163 624 940 931,97</td>\n",
              "    </tr>\n",
              "    <tr>\n",
              "      <th>9</th>\n",
              "      <td>Banyuwangi</td>\n",
              "      <td>3 112 910 584 037,82</td>\n",
              "      <td>2 932 152 201 493,82</td>\n",
              "    </tr>\n",
              "    <tr>\n",
              "      <th>10</th>\n",
              "      <td>Bondowoso</td>\n",
              "      <td>2 054 792 275 602,83</td>\n",
              "      <td>2 171 884 322 387,31</td>\n",
              "    </tr>\n",
              "    <tr>\n",
              "      <th>11</th>\n",
              "      <td>Situbondo</td>\n",
              "      <td>1 729 391 756 376,90</td>\n",
              "      <td>1 849 288 303 240,09</td>\n",
              "    </tr>\n",
              "    <tr>\n",
              "      <th>12</th>\n",
              "      <td>Probolinggo</td>\n",
              "      <td>2 150 613 638 624,38</td>\n",
              "      <td>2 325 106 278 976,72</td>\n",
              "    </tr>\n",
              "    <tr>\n",
              "      <th>13</th>\n",
              "      <td>Pasuruan</td>\n",
              "      <td>3 258 476 590 551,69</td>\n",
              "      <td>3 376 868 296 332,53</td>\n",
              "    </tr>\n",
              "    <tr>\n",
              "      <th>14</th>\n",
              "      <td>Sidoarjo</td>\n",
              "      <td>4 124 471 103 455,83</td>\n",
              "      <td>5 005 097 845 031,35</td>\n",
              "    </tr>\n",
              "    <tr>\n",
              "      <th>15</th>\n",
              "      <td>Mojokerto</td>\n",
              "      <td>2 392 324 886 534,77</td>\n",
              "      <td>2 672 024 585 315,54</td>\n",
              "    </tr>\n",
              "    <tr>\n",
              "      <th>16</th>\n",
              "      <td>Jombang</td>\n",
              "      <td>2 489 476 899 944,85</td>\n",
              "      <td>2 832 829 111 562,94</td>\n",
              "    </tr>\n",
              "    <tr>\n",
              "      <th>17</th>\n",
              "      <td>Nganjuk</td>\n",
              "      <td>2 324 690 319 859,31</td>\n",
              "      <td>2 617 124 429 605,65</td>\n",
              "    </tr>\n",
              "    <tr>\n",
              "      <th>18</th>\n",
              "      <td>Madiun</td>\n",
              "      <td>1 788 177 228 001,00</td>\n",
              "      <td>1 812 000 389 361,00</td>\n",
              "    </tr>\n",
              "    <tr>\n",
              "      <th>19</th>\n",
              "      <td>Magetan</td>\n",
              "      <td>1 746 041 429 722,08</td>\n",
              "      <td>1 921 830 391 205,08</td>\n",
              "    </tr>\n",
              "    <tr>\n",
              "      <th>20</th>\n",
              "      <td>Ngawi</td>\n",
              "      <td>1 992 494 803 197,85</td>\n",
              "      <td>2 172 957 671 262,18</td>\n",
              "    </tr>\n",
              "    <tr>\n",
              "      <th>21</th>\n",
              "      <td>Bojonegoro</td>\n",
              "      <td>3 350 746 300 371,78</td>\n",
              "      <td>3 628 531 299 762,72</td>\n",
              "    </tr>\n",
              "    <tr>\n",
              "      <th>22</th>\n",
              "      <td>Tuban</td>\n",
              "      <td>2 325 695 728 754,10</td>\n",
              "      <td>2 596 899 799 569,44</td>\n",
              "    </tr>\n",
              "    <tr>\n",
              "      <th>23</th>\n",
              "      <td>Lamongan</td>\n",
              "      <td>2 904 681 838 535,00</td>\n",
              "      <td>2 950 680 611 024,51</td>\n",
              "    </tr>\n",
              "    <tr>\n",
              "      <th>24</th>\n",
              "      <td>Gresik</td>\n",
              "      <td>2 870 853 525 257,00</td>\n",
              "      <td>3 036 339 122 030,74</td>\n",
              "    </tr>\n",
              "    <tr>\n",
              "      <th>25</th>\n",
              "      <td>Bangkalan</td>\n",
              "      <td>2 071 928 257 959,40</td>\n",
              "      <td>2 260 903 470 049,51</td>\n",
              "    </tr>\n",
              "    <tr>\n",
              "      <th>26</th>\n",
              "      <td>Sampang</td>\n",
              "      <td>1 713 487 271 710,06</td>\n",
              "      <td>1 834 655 838 274,49</td>\n",
              "    </tr>\n",
              "    <tr>\n",
              "      <th>27</th>\n",
              "      <td>Pamekasan</td>\n",
              "      <td>1 761 281 131 744,00</td>\n",
              "      <td>2 138 127 562 564,00</td>\n",
              "    </tr>\n",
              "    <tr>\n",
              "      <th>28</th>\n",
              "      <td>Sumenep</td>\n",
              "      <td>2 231 188 899 160,00</td>\n",
              "      <td>2 486 861 383 624,00</td>\n",
              "    </tr>\n",
              "    <tr>\n",
              "      <th>29</th>\n",
              "      <td>Kota/Municipality</td>\n",
              "      <td>NaN</td>\n",
              "      <td>NaN</td>\n",
              "    </tr>\n",
              "    <tr>\n",
              "      <th>30</th>\n",
              "      <td>Kediri</td>\n",
              "      <td>1 225 131 169 223,25</td>\n",
              "      <td>1 425 225 617 136,69</td>\n",
              "    </tr>\n",
              "    <tr>\n",
              "      <th>31</th>\n",
              "      <td>Blitar</td>\n",
              "      <td>844 692 292 324,05</td>\n",
              "      <td>972 204 365 136,51</td>\n",
              "    </tr>\n",
              "    <tr>\n",
              "      <th>32</th>\n",
              "      <td>Malang</td>\n",
              "      <td>1 986 432 106 698,91</td>\n",
              "      <td>2 360 831 551 277,57</td>\n",
              "    </tr>\n",
              "    <tr>\n",
              "      <th>33</th>\n",
              "      <td>Probolinggo</td>\n",
              "      <td>833 603 523 833,37</td>\n",
              "      <td>907 766 807 435,83</td>\n",
              "    </tr>\n",
              "    <tr>\n",
              "      <th>34</th>\n",
              "      <td>Pasuruan</td>\n",
              "      <td>860 332 267 210,24</td>\n",
              "      <td>1 006 333 411 941,04</td>\n",
              "    </tr>\n",
              "    <tr>\n",
              "      <th>35</th>\n",
              "      <td>Mojokerto</td>\n",
              "      <td>903 893 040 082,00</td>\n",
              "      <td>978 603 405 644,03</td>\n",
              "    </tr>\n",
              "    <tr>\n",
              "      <th>36</th>\n",
              "      <td>Madiun</td>\n",
              "      <td>977 096 842 937,00</td>\n",
              "      <td>1 285 587 599 826,46</td>\n",
              "    </tr>\n",
              "    <tr>\n",
              "      <th>37</th>\n",
              "      <td>Surabaya</td>\n",
              "      <td>927 740 607 523,39</td>\n",
              "      <td>1 066 290 673 712,87</td>\n",
              "    </tr>\n",
              "    <tr>\n",
              "      <th>38</th>\n",
              "      <td>Batu</td>\n",
              "      <td>8 079 142 194 268,00</td>\n",
              "      <td>9 268 450 333 673,00</td>\n",
              "    </tr>\n",
              "    <tr>\n",
              "      <th>39</th>\n",
              "      <td>Jawa Timur</td>\n",
              "      <td>87 875 815 426 339,50</td>\n",
              "      <td>96 705 773 242 481,70</td>\n",
              "    </tr>\n",
              "  </tbody>\n",
              "</table>\n",
              "</div>"
            ],
            "text/plain": [
              "   Kabupaten/Kota/Regency/Municipality  ...   Belanja/Expenditures\n",
              "0                              Pacitan  ...   1 665 549 144 945,82\n",
              "1                             Ponorogo  ...   2 322 805 767 564,09\n",
              "2                           Trenggalek  ...   1 946 046 774 834,78\n",
              "3                          Tulungagung  ...   2 800 598 386 012,13\n",
              "4                               Blitar  ...   2 456 663 058 142,18\n",
              "5                               Kediri  ...   3 149 740 395 312,47\n",
              "6                               Malang  ...   4 050 668 474 662,23\n",
              "7                             Lumajang  ...   2 256 619 621 618,47\n",
              "8                               Jember  ...   4 163 624 940 931,97\n",
              "9                           Banyuwangi  ...   2 932 152 201 493,82\n",
              "10                           Bondowoso  ...   2 171 884 322 387,31\n",
              "11                           Situbondo  ...   1 849 288 303 240,09\n",
              "12                         Probolinggo  ...   2 325 106 278 976,72\n",
              "13                            Pasuruan  ...   3 376 868 296 332,53\n",
              "14                            Sidoarjo  ...   5 005 097 845 031,35\n",
              "15                           Mojokerto  ...   2 672 024 585 315,54\n",
              "16                             Jombang  ...   2 832 829 111 562,94\n",
              "17                             Nganjuk  ...   2 617 124 429 605,65\n",
              "18                              Madiun  ...   1 812 000 389 361,00\n",
              "19                             Magetan  ...   1 921 830 391 205,08\n",
              "20                               Ngawi  ...   2 172 957 671 262,18\n",
              "21                          Bojonegoro  ...   3 628 531 299 762,72\n",
              "22                               Tuban  ...   2 596 899 799 569,44\n",
              "23                            Lamongan  ...   2 950 680 611 024,51\n",
              "24                              Gresik  ...   3 036 339 122 030,74\n",
              "25                           Bangkalan  ...   2 260 903 470 049,51\n",
              "26                             Sampang  ...   1 834 655 838 274,49\n",
              "27                           Pamekasan  ...   2 138 127 562 564,00\n",
              "28                             Sumenep  ...   2 486 861 383 624,00\n",
              "29                   Kota/Municipality  ...                    NaN\n",
              "30                              Kediri  ...   1 425 225 617 136,69\n",
              "31                              Blitar  ...     972 204 365 136,51\n",
              "32                              Malang  ...   2 360 831 551 277,57\n",
              "33                         Probolinggo  ...     907 766 807 435,83\n",
              "34                            Pasuruan  ...   1 006 333 411 941,04\n",
              "35                           Mojokerto  ...     978 603 405 644,03\n",
              "36                              Madiun  ...   1 285 587 599 826,46\n",
              "37                            Surabaya  ...   1 066 290 673 712,87\n",
              "38                                Batu  ...   9 268 450 333 673,00\n",
              "39                          Jawa Timur  ...  96 705 773 242 481,70\n",
              "\n",
              "[40 rows x 3 columns]"
            ]
          },
          "metadata": {
            "tags": []
          },
          "execution_count": 127
        }
      ]
    },
    {
      "cell_type": "code",
      "metadata": {
        "id": "_2P6PN17hatc"
      },
      "source": [
        "#Cleaning Data Content\n",
        "df_clean = df_clean.drop(labels=29, axis=0) #hapus baris index ke-29\n",
        "df_clean['Pendapatan/Revenues'] =  df_clean['Pendapatan/Revenues'].str.replace(\" \", \"\").str.replace(\",\", \".\") #hapus spasi dan ubah tanda koma menjadi titik\n",
        "df_clean['Belanja/Expenditures'] =  df_clean['Belanja/Expenditures'].str.replace(\" \", \"\").str.replace(\",\", \".\") #hapus spasi dan ubah tanda koma menjadi titik"
      ],
      "execution_count": null,
      "outputs": []
    },
    {
      "cell_type": "code",
      "metadata": {
        "colab": {
          "base_uri": "https://localhost:8080/"
        },
        "id": "OFC69Up5oOzE",
        "outputId": "dd1ad9b9-c434-483d-b515-8469d0c24b33"
      },
      "source": [
        "#Cek Tipe Data\n",
        "df_clean.info()"
      ],
      "execution_count": null,
      "outputs": [
        {
          "output_type": "stream",
          "text": [
            "<class 'pandas.core.frame.DataFrame'>\n",
            "Int64Index: 39 entries, 0 to 39\n",
            "Data columns (total 3 columns):\n",
            " #   Column                               Non-Null Count  Dtype  \n",
            "---  ------                               --------------  -----  \n",
            " 0   Kabupaten/Kota/Regency/Municipality  39 non-null     object \n",
            " 1   Pendapatan/Revenues                  39 non-null     float64\n",
            " 2   Belanja/Expenditures                 39 non-null     float64\n",
            "dtypes: float64(2), object(1)\n",
            "memory usage: 1.2+ KB\n"
          ],
          "name": "stdout"
        }
      ]
    },
    {
      "cell_type": "code",
      "metadata": {
        "id": "33_BdIngknXv"
      },
      "source": [
        "df_clean['Pendapatan/Revenues'] = df_clean['Pendapatan/Revenues'].astype(float)\n",
        "df_clean['Belanja/Expenditures'] = df_clean['Belanja/Expenditures'].astype(float)"
      ],
      "execution_count": null,
      "outputs": []
    },
    {
      "cell_type": "code",
      "metadata": {
        "colab": {
          "base_uri": "https://localhost:8080/",
          "height": 191
        },
        "id": "Jo-elc61ioeK",
        "outputId": "244a2994-ed99-484d-9c4c-14ab3b56488a"
      },
      "source": [
        "df_clean.head()"
      ],
      "execution_count": null,
      "outputs": [
        {
          "output_type": "execute_result",
          "data": {
            "text/html": [
              "<div>\n",
              "<style scoped>\n",
              "    .dataframe tbody tr th:only-of-type {\n",
              "        vertical-align: middle;\n",
              "    }\n",
              "\n",
              "    .dataframe tbody tr th {\n",
              "        vertical-align: top;\n",
              "    }\n",
              "\n",
              "    .dataframe thead th {\n",
              "        text-align: right;\n",
              "    }\n",
              "</style>\n",
              "<table border=\"1\" class=\"dataframe\">\n",
              "  <thead>\n",
              "    <tr style=\"text-align: right;\">\n",
              "      <th></th>\n",
              "      <th>Kabupaten/Kota/Regency/Municipality</th>\n",
              "      <th>Pendapatan/Revenues</th>\n",
              "      <th>Belanja/Expenditures</th>\n",
              "    </tr>\n",
              "  </thead>\n",
              "  <tbody>\n",
              "    <tr>\n",
              "      <th>0</th>\n",
              "      <td>Pacitan</td>\n",
              "      <td>1.615114e+12</td>\n",
              "      <td>1.665549e+12</td>\n",
              "    </tr>\n",
              "    <tr>\n",
              "      <th>1</th>\n",
              "      <td>Ponorogo</td>\n",
              "      <td>2.280254e+12</td>\n",
              "      <td>2.322806e+12</td>\n",
              "    </tr>\n",
              "    <tr>\n",
              "      <th>2</th>\n",
              "      <td>Trenggalek</td>\n",
              "      <td>1.783657e+12</td>\n",
              "      <td>1.946047e+12</td>\n",
              "    </tr>\n",
              "    <tr>\n",
              "      <th>3</th>\n",
              "      <td>Tulungagung</td>\n",
              "      <td>2.584916e+12</td>\n",
              "      <td>2.800598e+12</td>\n",
              "    </tr>\n",
              "    <tr>\n",
              "      <th>4</th>\n",
              "      <td>Blitar</td>\n",
              "      <td>2.361757e+12</td>\n",
              "      <td>2.456663e+12</td>\n",
              "    </tr>\n",
              "  </tbody>\n",
              "</table>\n",
              "</div>"
            ],
            "text/plain": [
              "  Kabupaten/Kota/Regency/Municipality  ...  Belanja/Expenditures\n",
              "0                             Pacitan  ...          1.665549e+12\n",
              "1                            Ponorogo  ...          2.322806e+12\n",
              "2                          Trenggalek  ...          1.946047e+12\n",
              "3                         Tulungagung  ...          2.800598e+12\n",
              "4                              Blitar  ...          2.456663e+12\n",
              "\n",
              "[5 rows x 3 columns]"
            ]
          },
          "metadata": {
            "tags": []
          },
          "execution_count": 137
        }
      ]
    },
    {
      "cell_type": "markdown",
      "metadata": {
        "id": "X9vyPS0bxMtD"
      },
      "source": [
        "Sekarang anda telah mendapatkan kolom dengan pattern yang mudah dibaca. Berikut akan di contohkan cara menyimpan data kedalam format .xlsx dan .csv."
      ]
    },
    {
      "cell_type": "code",
      "metadata": {
        "id": "f-vj4nSvlRHY"
      },
      "source": [
        "#convert DataFrame to .xlsx\n",
        "df_clean.to_excel(path + 'convert_excel.xlsx', index=None) # tidak mengimpan index dari dataframe tersebut"
      ],
      "execution_count": null,
      "outputs": []
    },
    {
      "cell_type": "code",
      "metadata": {
        "id": "D4wvemKBd20b"
      },
      "source": [
        "#convert DataFrame to .csv\n",
        "df_clean.to_csv(path + 'convert_csv.csv', index=None) # tidak mengimpan index dari dataframe tersebut"
      ],
      "execution_count": null,
      "outputs": []
    },
    {
      "cell_type": "markdown",
      "metadata": {
        "id": "89OfVkKkyBE9"
      },
      "source": [
        "Anda telah berhasil mengcovert pdf kedalam format .xlsx dan .csv. Selanjutnya anda dapat melihat data pada drive anda."
      ]
    },
    {
      "cell_type": "markdown",
      "metadata": {
        "id": "u9A8civQyMkx"
      },
      "source": [
        "## Convert Pdf to Docx\n",
        "Dalam mengconvert file pdf kedalam document file kita akan menggunakan module pdf2docx. Untuk lebih jelasnya perhatikan code dibawah ini."
      ]
    },
    {
      "cell_type": "code",
      "metadata": {
        "colab": {
          "base_uri": "https://localhost:8080/"
        },
        "id": "EssJFkywlsh_",
        "outputId": "b098ea9a-124f-480d-98f5-797683f7ccb7"
      },
      "source": [
        "# Pilih directory tempat file pdf tersimpan\n",
        "pdf_file = path + 'Provinsi Jawa Timur Dalam Angka 2020-pages-85.pdf'\n",
        "\n",
        "# Pilih directory tempat data docx akan tersimpan, dan masukkan nama file untuk file document\n",
        "docx_file = path + 'Provinsi Jawa Timur Dalam Angka 2020-pages-85.docx' # nama file bisa diganti\n",
        "\n",
        "# Convert pdf to docx\n",
        "cv = Converter(pdf_file)\n",
        "\n",
        "# Proses pdf dan pilih halaman yang akan di convert\n",
        "cv.convert(docx_file, start=0, end=None) #convert pdf halaman pertama\n",
        "cv.close()"
      ],
      "execution_count": null,
      "outputs": [
        {
          "output_type": "stream",
          "text": [
            "\rParsing Page 1: 1/1...Ignore Line \"Table2.4.3 Realisasi Pendapatan dan Belanja Pemerintah Provinsi\" due to overlap\n",
            "Ignore Line \"Menurut Kabupaten/Kota di Provinsi Jawa Timur, 2018 dan\" due to overlap\n",
            "\n",
            "Creating Page 1: 1/1...\n",
            "--------------------------------------------------\n",
            "Terminated in 1.8176787410011457s.\n"
          ],
          "name": "stdout"
        }
      ]
    },
    {
      "cell_type": "markdown",
      "metadata": {
        "id": "aj9u89IFzahJ"
      },
      "source": [
        "Anda telah berhasil mengconvert pdf kedalam 2 format file yang berbeda. Untuk memastikan data sudah tersimpan, cek kembali data dalam directory anda.\n",
        "> *membutuhkan sedikit waktu untuk save data ke dalam drive*"
      ]
    },
    {
      "cell_type": "code",
      "metadata": {
        "colab": {
          "base_uri": "https://localhost:8080/"
        },
        "id": "CPNj7-1Tmz-L",
        "outputId": "afb1d579-b7a6-456c-88e4-567ab5e21189"
      },
      "source": [
        "os.listdir(path)"
      ],
      "execution_count": null,
      "outputs": [
        {
          "output_type": "execute_result",
          "data": {
            "text/plain": [
              "['Provinsi Jawa Timur Dalam Angka 2020-pages-85.pdf',\n",
              " 'Provinsi Jawa Timur Dalam Angka 2020-pages-85.docx']"
            ]
          },
          "metadata": {
            "tags": []
          },
          "execution_count": 144
        }
      ]
    },
    {
      "cell_type": "code",
      "metadata": {
        "id": "XzD2HTaKsp7o"
      },
      "source": [
        ""
      ],
      "execution_count": null,
      "outputs": []
    }
  ]
}